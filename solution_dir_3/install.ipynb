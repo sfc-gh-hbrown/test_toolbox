{
 "cells": [
  {
   "cell_type": "markdown",
   "id": "01515f0c-3971-44b5-8a86-9e5c6202ebba",
   "metadata": {
    "collapsed": false,
    "name": "cell13"
   },
   "source": [
    "# Serverless Task Migration\n",
    "This app is designed to help identify tasks running in your snowflake that are underutilizing a warehouse so that they can be changed to a serverless task. This is designed to migrate these tasks to improve the proficiency of these services as well as save on the cost of execution, as an under-utilized warehouse often charges for downtime when spun up for short tasks\n",
    "\n",
    "This Notedbook will drop a streamlit file at SIT_SOLUTIONS.STM.CODE_STAGE and install the app SIT_SOLUTIONS.STM.STM_STREAMLIT."
   ]
  },
  {
   "cell_type": "code",
   "execution_count": null,
   "id": "3775908f-ca36-4846-8f38-5adca39217f2",
   "metadata": {
    "codeCollapsed": false,
    "collapsed": false,
    "language": "python",
    "name": "setup",
    "resultHeight": 0
   },
   "outputs": [],
   "source": [
    "# Import python packages\n",
    "import streamlit as st\n",
    "import pandas as pd\n",
    "import pickle\n",
    "import codecs\n",
    "import os\n",
    "import base64\n",
    "\n",
    "from snowflake.snowpark.context import get_active_session\n",
    "session = get_active_session()\n",
    "session.sql(f\"\"\"ALTER SESSION SET QUERY_TAG = '{{\"origin\":\"sf_sit\",\"name\":\"sit_serveless_task_migration\",\"version\":{{\"major\":1, \"minor\":0}} }}'\"\"\").collect()\n",
    "\n",
    "current_database = session.sql(\"SELECT CURRENT_DATABASE()\").collect()[0][0]\n",
    "current_schema = session.sql(\"SELECT CURRENT_schema()\").collect()[0][0]\n",
    "try:\n",
    "    # session.sql(\"SELECT * from INSTALL_TEST.TEST.TEST_OPERATIONS\").collect()\n",
    "    st.session_state.opps_test_info = session.sql(f\"SELECT * from {current_database}.{current_schema}.TEST_OPERATIONS\").to_pandas()\n",
    "    run_mode = \"test\"\n",
    "except:\n",
    "    st.success(\"Running Customer Install. Please follow the steps!\")\n",
    "    run_mode = \"customer\""
   ]
  },
  {
   "cell_type": "markdown",
   "id": "0a2ab985-aee1-4e95-841b-3c9840e46a53",
   "metadata": {
    "collapsed": false,
    "name": "setup_prompt",
    "resultHeight": 41
   },
   "source": [
    "Please choose the location you'd like to install to"
   ]
  },
  {
   "cell_type": "code",
   "execution_count": null,
   "id": "51304a7b-e118-4ebe-8dac-47581f05efe5",
   "metadata": {
    "codeCollapsed": false,
    "collapsed": false,
    "language": "python",
    "name": "mode_gate",
    "resultHeight": 112
   },
   "outputs": [],
   "source": [
    "if run_mode == 'test':\n",
    "    opps_info = st.session_state.opps_test_info\n",
    "    install_db = opps_info[opps_info[\"KEY\"] == \"INSTALL_DB\"][\"VALUE\"].values[0]\n",
    "    admin_schema = opps_info[opps_info[\"KEY\"] == \"ADMIN_SCHEMA\"][\"VALUE\"].values[0]\n",
    "    results_schema = opps_info[opps_info[\"KEY\"] == \"RESULT_SCHEMA\"][\"VALUE\"].values[0]\n",
    "    ops_schema = opps_info[opps_info[\"KEY\"] == \"OPS_SCHEMA\"][\"VALUE\"].values[0]\n",
    "    install_stage = opps_info[opps_info[\"KEY\"] == \"INSTALL_STAGE\"][\"VALUE\"].values[0]\n",
    "    ops_wh = opps_info[opps_info[\"KEY\"] == \"OPS_WH\"][\"VALUE\"].values[0]\n",
    "elif run_mode ==\"customer\":\n",
    "    install_db = st.text_input(\"Database\")\n",
    "    admin_schema = st.text_input(\"Admin Schema\")\n",
    "    results_schema = st.text_input(\"Results Schema\")\n",
    "    ops_schema = st.text_input(\"Operations Schema\")\n",
    "    install_stage = st.text_input(\"Install Stage (for hosting code files)\")\n",
    "    ops_wh = st.text_input(\"User Warehouse\")"
   ]
  },
  {
   "cell_type": "code",
   "execution_count": null,
   "id": "8d50cbf4-0c8d-4950-86cb-114990437ac9",
   "metadata": {
    "codeCollapsed": false,
    "collapsed": false,
    "language": "sql",
    "name": "put_to_stage",
    "resultHeight": 112
   },
   "outputs": [],
   "source": [
    "CREATE OR REPLACE PROCEDURE {{install_db}}.{{admin_schema}}.PUT_TO_STAGE(STAGE VARCHAR, FILENAME VARCHAR, CONTENT VARCHAR)\n",
    "RETURNS STRING\n",
    "LANGUAGE PYTHON\n",
    "RUNTIME_VERSION=3.8\n",
    "PACKAGES=('snowflake-snowpark-python')\n",
    "HANDLER='put_to_stage'\n",
    "COMMENT='{\"origin\": \"sf_sit\",\"name\": \"sit_serveless_task_migration\",\"version\": \"{major: 1, minor: 0}\"}'\n",
    "AS $$\n",
    "import io\n",
    "import os\n",
    "\n",
    "def put_to_stage(session, stage, filename, content):\n",
    "    local_path = '/tmp'\n",
    "    local_file = os.path.join(local_path, filename)\n",
    "    f = open(local_file, \"w\", encoding='utf-8')\n",
    "    f.write(content)\n",
    "    f.close()\n",
    "    session.file.put(local_file, '@'+stage, auto_compress=False, overwrite=True)\n",
    "    return \"saved file \"+filename+\" in stage \"+stage\n",
    "$$;\n"
   ]
  },
  {
   "cell_type": "code",
   "execution_count": null,
   "id": "05c58c38-28da-4566-9163-637c3e5945aa",
   "metadata": {
    "codeCollapsed": false,
    "collapsed": false,
    "language": "python",
    "name": "encoded_object",
    "resultHeight": 0
   },
   "outputs": [],
   "source": [
    "\"\"\"gASVHQAAAAAAAAB9lIwFZmlsZXOUfZSMCC5naXRrZWVwlEMAlHNzLg==\n",
    "\"\"\""
   ]
  },
  {
   "cell_type": "code",
   "execution_count": null,
   "id": "c695373e-ac74-4b62-a1f1-08206cbd5c81",
   "metadata": {
    "codeCollapsed": false,
    "collapsed": false,
    "language": "python",
    "name": "decrypt_and_load",
    "resultHeight": 0
   },
   "outputs": [],
   "source": [
    "import pickle\n",
    "import codecs\n",
    "import os\n",
    "import base64\n",
    "\n",
    "from snowflake.snowpark.context import get_active_session\n",
    "session = get_active_session()\n",
    "\n",
    "def decode(obj):\n",
    "    pickled = codecs.decode(obj.encode(), 'base64')\n",
    "    return pickle.loads(pickled)\n",
    "\n",
    "\n",
    "# Decode object to confirm it is the same as the original object\n",
    "decoded_obj = decode(encoded_obj)\n",
    "\n",
    "# Stage each file\n",
    "for file_name, file_content in decoded_obj['files'].items():\n",
    "    # replace double dollars to help with SQL compatibility\n",
    "    file_content = str(file_content.decode(\"utf-8\")).replace(\"$$\", '\"\"\"')\n",
    "    sql = \"\"\"call {db}.{schema}.put_to_stage('{db}.{schema}.{stage}','{file_name}', $${file_content}$$)\"\"\".format(\n",
    "        file_name=file_name, \n",
    "        file_content=file_content,\n",
    "        db=install_db,\n",
    "        schema=admin_schema,\n",
    "        stage=install_stage)\n",
    "    session.sql(sql).collect()\n",
    "\n",
    "# Stage each image"
   ]
  },
  {
   "cell_type": "code",
   "execution_count": null,
   "id": "d0fbde38-0446-442e-8f7b-7cd4429380a8",
   "metadata": {
    "codeCollapsed": false,
    "collapsed": false,
    "language": "sql",
    "name": "install",
    "resultHeight": 112
   },
   "outputs": [],
   "source": [
    "CREATE OR REPLACE STREAMLIT {{install_db}}.{{ops_schema}}.STM_STREAMLIT\n",
    "ROOT_LOCATION = '@{{install_db}}.{{ops_schema}}.{{install_stage}}'\n",
    "MAIN_FILE = 'serverless_task_migration.py'\n",
    "QUERY_WAREHOUSE = {{ops_wh}}\n",
    "COMMENT='{\"origin\": \"sf_sit\",\"name\": \"sit_serveless_task_migration\",\"version\": \"{major: 1, minor: 0}\"}';"
   ]
  }
 ],
 "metadata": {
  "kernelspec": {
   "display_name": "Streamlit Notebook",
   "name": "streamlit"
  },
  "lastEditStatus": {
   "authorEmail": "hartland.brown@snowflake.com",
   "authorId": "3131570700385",
   "authorName": "HBROWN",
   "lastEditTime": 1746133455344,
   "notebookId": "iphdj6zmxhxrgnq4qish",
   "sessionId": "d5efb6f6-ebe5-4ead-aef0-be74e265c054"
  }
 },
 "nbformat": 4,
 "nbformat_minor": 5
}
